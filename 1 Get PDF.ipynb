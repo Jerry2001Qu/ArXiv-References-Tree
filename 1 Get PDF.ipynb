{
 "cells": [
  {
   "cell_type": "code",
   "execution_count": 1,
   "metadata": {},
   "outputs": [],
   "source": [
    "import urllib.request\n",
    "import json\n",
    "from tqdm.notebook import tqdm_notebook\n",
    "from graphviz import Digraph"
   ]
  },
  {
   "cell_type": "code",
   "execution_count": null,
   "metadata": {},
   "outputs": [],
   "source": [
    "memory = {}"
   ]
  },
  {
   "cell_type": "code",
   "execution_count": 35,
   "metadata": {},
   "outputs": [],
   "source": [
    "def GetReferences(semantic_id, arxiv, depth, top_n=10):\n",
    "    print(depth)\n",
    "    if semantic_id in memory:\n",
    "        data = memory[semantic_id]\n",
    "    else:\n",
    "        link = 'http://api.semanticscholar.org/v1/paper/{}'.format('arXiv:' + semantic_id if arxiv else semantic_id)\n",
    "\n",
    "        with urllib.request.urlopen(link) as paper:\n",
    "            data = json.loads(paper.read().decode())\n",
    "        memory[data['paperId']] = data\n",
    "        \n",
    "    papers[data['paperId']] = {'title': data['title'],\n",
    "                               'references': [{'paperId': reference['paperId'], 'title': reference['title']} for reference in data['references']] if depth > 2 else [],\n",
    "                               'citations': len(data['citations'])}\n",
    "    \n",
    "    # Problem to fix. After going one layer down, you want to prune articles that don't fit the top_n. This will lead to top_n^depth time\n",
    "    # Right now, we have ~avg_n^depth time, as we exhaustively search through every reference's reference.\n",
    "    # Every depth%2==0 (Even), prune references not appearing above. Would have to be breadth wise\n",
    "    \n",
    "    if depth > 2:\n",
    "        citations = {}\n",
    "        for reference in tqdm_notebook(papers[data['paperId']]['references']):\n",
    "            citations[reference['paperId']] = GetCitations(reference['paperId'])\n",
    "        \n",
    "        if len(citations) > top_n:\n",
    "            citations = sorted(citations, key=lambda x: x[1], reverse=True)\n",
    "            if top_n != -1:\n",
    "                citations = citations[:top_n]\n",
    "        \n",
    "        papers[data['paperId']]['references'] = [reference for reference in papers[data['paperId']]['references'] if reference['paperId'] in citations]\n",
    "\n",
    "        for reference in tqdm_notebook(papers[data['paperId']]['references']):\n",
    "            GetReferences(reference['paperId'], False, depth-1, top_n)\n",
    "            reference['citations'] = papers[reference['paperId']]['citations']\n",
    "            \n",
    "        #if len(papers[data['paperId']]['references']) > top_n:\n",
    "        #    if top_n != -1:\n",
    "        #        papers[data['paperId']]['references'] = sorted(papers[data['paperId']]['references'], key=lambda x: x['citations'], reverse=True)[:top_n]\n",
    "        #    else:\n",
    "        #        papers[data['paperId']]['references'] = sorted(papers[data['paperId']]['references'], key=lambda x: x['citations'], reverse=True)"
   ]
  },
  {
   "cell_type": "code",
   "execution_count": 36,
   "metadata": {},
   "outputs": [],
   "source": [
    "def GetCitations(reference_id):\n",
    "    if reference_id in memory:\n",
    "        data = memory[reference_id]\n",
    "    else:\n",
    "        link = 'http://api.semanticscholar.org/v1/paper/{}'.format(reference_id)\n",
    "\n",
    "        with urllib.request.urlopen(link) as paper:\n",
    "            data = json.loads(paper.read().decode())\n",
    "        memory[reference_id] = data\n",
    "        \n",
    "    return len(data['citations'])"
   ]
  },
  {
   "cell_type": "code",
   "execution_count": 37,
   "metadata": {},
   "outputs": [],
   "source": [
    "# e8961cfbb73313b01f2b768650d8851a015e8d18\n",
    "# a9b80b3cffb758bea670220fa6762eb343865419"
   ]
  },
  {
   "cell_type": "code",
   "execution_count": 40,
   "metadata": {
    "scrolled": true
   },
   "outputs": [
    {
     "name": "stdout",
     "output_type": "stream",
     "text": [
      "4\n"
     ]
    },
    {
     "data": {
      "application/vnd.jupyter.widget-view+json": {
       "model_id": "c318c96cef2d4ecdb46f70c412972b28",
       "version_major": 2,
       "version_minor": 0
      },
      "text/plain": [
       "HBox(children=(FloatProgress(value=0.0, max=56.0), HTML(value='')))"
      ]
     },
     "metadata": {},
     "output_type": "display_data"
    },
    {
     "name": "stdout",
     "output_type": "stream",
     "text": [
      "\n"
     ]
    },
    {
     "data": {
      "application/vnd.jupyter.widget-view+json": {
       "model_id": "8d6a819843774e418654212c3c422e60",
       "version_major": 2,
       "version_minor": 0
      },
      "text/plain": [
       "HBox(children=(FloatProgress(value=0.0, max=5.0), HTML(value='')))"
      ]
     },
     "metadata": {},
     "output_type": "display_data"
    },
    {
     "name": "stdout",
     "output_type": "stream",
     "text": [
      "3\n"
     ]
    },
    {
     "data": {
      "application/vnd.jupyter.widget-view+json": {
       "model_id": "8fa0939f4c4142f49e22ee243426beb4",
       "version_major": 2,
       "version_minor": 0
      },
      "text/plain": [
       "HBox(children=(FloatProgress(value=0.0, max=27.0), HTML(value='')))"
      ]
     },
     "metadata": {},
     "output_type": "display_data"
    },
    {
     "name": "stdout",
     "output_type": "stream",
     "text": [
      "\n"
     ]
    },
    {
     "data": {
      "application/vnd.jupyter.widget-view+json": {
       "model_id": "59e931bd13224097a29dc0ba8885ed4c",
       "version_major": 2,
       "version_minor": 0
      },
      "text/plain": [
       "HBox(children=(FloatProgress(value=0.0, max=5.0), HTML(value='')))"
      ]
     },
     "metadata": {},
     "output_type": "display_data"
    },
    {
     "name": "stdout",
     "output_type": "stream",
     "text": [
      "2\n",
      "2\n",
      "2\n",
      "2\n",
      "2\n",
      "\n",
      "3\n"
     ]
    },
    {
     "data": {
      "application/vnd.jupyter.widget-view+json": {
       "model_id": "efcab16e466148d2b2d80ecccf40c6fc",
       "version_major": 2,
       "version_minor": 0
      },
      "text/plain": [
       "HBox(children=(FloatProgress(value=0.0, max=30.0), HTML(value='')))"
      ]
     },
     "metadata": {},
     "output_type": "display_data"
    },
    {
     "name": "stdout",
     "output_type": "stream",
     "text": [
      "\n"
     ]
    },
    {
     "data": {
      "application/vnd.jupyter.widget-view+json": {
       "model_id": "1171e69e186a41bc9774a4688f86160f",
       "version_major": 2,
       "version_minor": 0
      },
      "text/plain": [
       "HBox(children=(FloatProgress(value=0.0, max=5.0), HTML(value='')))"
      ]
     },
     "metadata": {},
     "output_type": "display_data"
    },
    {
     "name": "stdout",
     "output_type": "stream",
     "text": [
      "2\n",
      "2\n",
      "2\n",
      "2\n",
      "2\n",
      "\n",
      "3\n"
     ]
    },
    {
     "data": {
      "application/vnd.jupyter.widget-view+json": {
       "model_id": "9f5feb6dd8064c3fb961ce5d519bd614",
       "version_major": 2,
       "version_minor": 0
      },
      "text/plain": [
       "HBox(children=(FloatProgress(value=0.0, max=35.0), HTML(value='')))"
      ]
     },
     "metadata": {},
     "output_type": "display_data"
    },
    {
     "name": "stdout",
     "output_type": "stream",
     "text": [
      "\n"
     ]
    },
    {
     "data": {
      "application/vnd.jupyter.widget-view+json": {
       "model_id": "3959f95319fc4a1cbf25c2538bdfeb9b",
       "version_major": 2,
       "version_minor": 0
      },
      "text/plain": [
       "HBox(children=(FloatProgress(value=0.0, max=5.0), HTML(value='')))"
      ]
     },
     "metadata": {},
     "output_type": "display_data"
    },
    {
     "name": "stdout",
     "output_type": "stream",
     "text": [
      "2\n",
      "2\n",
      "2\n",
      "2\n",
      "2\n",
      "\n",
      "3\n"
     ]
    },
    {
     "data": {
      "application/vnd.jupyter.widget-view+json": {
       "model_id": "d781daa4476d4738a905b9137bc367a3",
       "version_major": 2,
       "version_minor": 0
      },
      "text/plain": [
       "HBox(children=(FloatProgress(value=0.0, max=21.0), HTML(value='')))"
      ]
     },
     "metadata": {},
     "output_type": "display_data"
    },
    {
     "name": "stdout",
     "output_type": "stream",
     "text": [
      "\n"
     ]
    },
    {
     "data": {
      "application/vnd.jupyter.widget-view+json": {
       "model_id": "2c20bfd952f94dbfbf951eefcef6572a",
       "version_major": 2,
       "version_minor": 0
      },
      "text/plain": [
       "HBox(children=(FloatProgress(value=0.0, max=5.0), HTML(value='')))"
      ]
     },
     "metadata": {},
     "output_type": "display_data"
    },
    {
     "name": "stdout",
     "output_type": "stream",
     "text": [
      "2\n",
      "2\n",
      "2\n",
      "2\n",
      "2\n",
      "\n",
      "3\n"
     ]
    },
    {
     "data": {
      "application/vnd.jupyter.widget-view+json": {
       "model_id": "a450298b6e9740cf8521372601150d52",
       "version_major": 2,
       "version_minor": 0
      },
      "text/plain": [
       "HBox(children=(FloatProgress(value=0.0, max=35.0), HTML(value='')))"
      ]
     },
     "metadata": {},
     "output_type": "display_data"
    },
    {
     "name": "stdout",
     "output_type": "stream",
     "text": [
      "\n"
     ]
    },
    {
     "data": {
      "application/vnd.jupyter.widget-view+json": {
       "model_id": "d920b623b6f749c7b3ebfa3432ab4a45",
       "version_major": 2,
       "version_minor": 0
      },
      "text/plain": [
       "HBox(children=(FloatProgress(value=0.0, max=5.0), HTML(value='')))"
      ]
     },
     "metadata": {},
     "output_type": "display_data"
    },
    {
     "name": "stdout",
     "output_type": "stream",
     "text": [
      "2\n",
      "2\n",
      "2\n",
      "2\n",
      "2\n",
      "\n",
      "\n"
     ]
    }
   ],
   "source": [
    "papers = {}\n",
    "GetReferences('2001.09977', True, 4, 5)\n",
    "root = next(iter(papers))"
   ]
  },
  {
   "cell_type": "code",
   "execution_count": 42,
   "metadata": {
    "scrolled": true
   },
   "outputs": [],
   "source": [
    "def CleanTree(root): # Assuming that this works. Can not fully test, as depth 4 is too large as of yet\n",
    "    for ref in papers[root]['references']:\n",
    "        refs.append(ref['paperId'])\n",
    "        CleanTree(ref['paperId'])"
   ]
  },
  {
   "cell_type": "code",
   "execution_count": 43,
   "metadata": {},
   "outputs": [],
   "source": [
    "refs = []\n",
    "CleanTree(root) # First element\n",
    "papers = dict(filter(lambda x: x[0] in refs or x[0] == root, papers.items()))"
   ]
  },
  {
   "cell_type": "code",
   "execution_count": 44,
   "metadata": {},
   "outputs": [],
   "source": [
    "# Graph"
   ]
  },
  {
   "cell_type": "code",
   "execution_count": 45,
   "metadata": {},
   "outputs": [],
   "source": [
    "dot = Digraph()\n",
    "\n",
    "for paper_id in papers.keys():\n",
    "    dot.node(paper_id, papers[paper_id]['title'])\n",
    "    \n",
    "for paper_id in papers.keys():\n",
    "    for reference in papers[paper_id]['references']:\n",
    "        if reference['paperId'] in papers.keys() and papers[reference['paperId']]['citations'] > 0:\n",
    "            dot.edge(paper_id, reference['paperId'])"
   ]
  },
  {
   "cell_type": "code",
   "execution_count": 46,
   "metadata": {},
   "outputs": [
    {
     "data": {
      "image/svg+xml": [
       "<?xml version=\"1.0\" encoding=\"UTF-8\" standalone=\"no\"?>\r\n",
       "<!DOCTYPE svg PUBLIC \"-//W3C//DTD SVG 1.1//EN\"\r\n",
       " \"http://www.w3.org/Graphics/SVG/1.1/DTD/svg11.dtd\">\r\n",
       "<!-- Generated by graphviz version 2.38.0 (20140413.2041)\r\n",
       " -->\r\n",
       "<!-- Title: %3 Pages: 1 -->\r\n",
       "<svg width=\"8684pt\" height=\"260pt\"\r\n",
       " viewBox=\"0.00 0.00 8683.91 260.00\" xmlns=\"http://www.w3.org/2000/svg\" xmlns:xlink=\"http://www.w3.org/1999/xlink\">\r\n",
       "<g id=\"graph0\" class=\"graph\" transform=\"scale(1 1) rotate(0) translate(4 256)\">\r\n",
       "<title>%3</title>\r\n",
       "<polygon fill=\"white\" stroke=\"none\" points=\"-4,4 -4,-256 8679.91,-256 8679.91,4 -4,4\"/>\r\n",
       "<!-- e8961cfbb73313b01f2b768650d8851a015e8d18 -->\r\n",
       "<g id=\"node1\" class=\"node\"><title>e8961cfbb73313b01f2b768650d8851a015e8d18</title>\r\n",
       "<ellipse fill=\"none\" stroke=\"black\" cx=\"1275.98\" cy=\"-234\" rx=\"178.969\" ry=\"18\"/>\r\n",
       "<text text-anchor=\"middle\" x=\"1275.98\" y=\"-230.3\" font-family=\"Times New Roman,serif\" font-size=\"14.00\">Towards a Human&#45;like Open&#45;Domain Chatbot</text>\r\n",
       "</g>\r\n",
       "<!-- cea967b59209c6be22829699f05b8b1ac4dc092d -->\r\n",
       "<g id=\"node2\" class=\"node\"><title>cea967b59209c6be22829699f05b8b1ac4dc092d</title>\r\n",
       "<ellipse fill=\"none\" stroke=\"black\" cx=\"207.982\" cy=\"-18\" rx=\"207.963\" ry=\"18\"/>\r\n",
       "<text text-anchor=\"middle\" x=\"207.982\" y=\"-14.3\" font-family=\"Times New Roman,serif\" font-size=\"14.00\">Sequence to Sequence Learning with Neural Networks</text>\r\n",
       "</g>\r\n",
       "<!-- e8961cfbb73313b01f2b768650d8851a015e8d18&#45;&gt;cea967b59209c6be22829699f05b8b1ac4dc092d -->\r\n",
       "<g id=\"edge1\" class=\"edge\"><title>e8961cfbb73313b01f2b768650d8851a015e8d18&#45;&gt;cea967b59209c6be22829699f05b8b1ac4dc092d</title>\r\n",
       "<path fill=\"none\" stroke=\"black\" d=\"M1099.18,-231.313C908.812,-224.468 599.678,-198.639 349.982,-108 307.352,-92.5255 263.99,-62.8993 236.592,-42.092\"/>\r\n",
       "<polygon fill=\"black\" stroke=\"black\" points=\"238.676,-39.2794 228.62,-35.9432 234.401,-44.8221 238.676,-39.2794\"/>\r\n",
       "</g>\r\n",
       "<!-- cf4aa38ae31b43fd07abe13b4ffdb265babb7be1 -->\r\n",
       "<g id=\"node3\" class=\"node\"><title>cf4aa38ae31b43fd07abe13b4ffdb265babb7be1</title>\r\n",
       "<ellipse fill=\"none\" stroke=\"black\" cx=\"3830.98\" cy=\"-162\" rx=\"181.168\" ry=\"18\"/>\r\n",
       "<text text-anchor=\"middle\" x=\"3830.98\" y=\"-158.3\" font-family=\"Times New Roman,serif\" font-size=\"14.00\">The Curious Case of Neural Text Degeneration</text>\r\n",
       "</g>\r\n",
       "<!-- e8961cfbb73313b01f2b768650d8851a015e8d18&#45;&gt;cf4aa38ae31b43fd07abe13b4ffdb265babb7be1 -->\r\n",
       "<g id=\"edge2\" class=\"edge\"><title>e8961cfbb73313b01f2b768650d8851a015e8d18&#45;&gt;cf4aa38ae31b43fd07abe13b4ffdb265babb7be1</title>\r\n",
       "<path fill=\"none\" stroke=\"black\" d=\"M1446.1,-228.339C1906.64,-215.722 3174.86,-180.976 3648.98,-167.986\"/>\r\n",
       "<polygon fill=\"black\" stroke=\"black\" points=\"3649.1,-171.484 3659,-167.712 3648.91,-164.487 3649.1,-171.484\"/>\r\n",
       "</g>\r\n",
       "<!-- 0e4f4869853c5f0d9d1d740481b0be196b4bec4f -->\r\n",
       "<g id=\"node9\" class=\"node\"><title>0e4f4869853c5f0d9d1d740481b0be196b4bec4f</title>\r\n",
       "<ellipse fill=\"none\" stroke=\"black\" cx=\"1275.98\" cy=\"-162\" rx=\"243.157\" ry=\"18\"/>\r\n",
       "<text text-anchor=\"middle\" x=\"1275.98\" y=\"-158.3\" font-family=\"Times New Roman,serif\" font-size=\"14.00\">Steering Output Style and Topic in Neural Response Generation</text>\r\n",
       "</g>\r\n",
       "<!-- e8961cfbb73313b01f2b768650d8851a015e8d18&#45;&gt;0e4f4869853c5f0d9d1d740481b0be196b4bec4f -->\r\n",
       "<g id=\"edge3\" class=\"edge\"><title>e8961cfbb73313b01f2b768650d8851a015e8d18&#45;&gt;0e4f4869853c5f0d9d1d740481b0be196b4bec4f</title>\r\n",
       "<path fill=\"none\" stroke=\"black\" d=\"M1275.98,-215.697C1275.98,-207.983 1275.98,-198.712 1275.98,-190.112\"/>\r\n",
       "<polygon fill=\"black\" stroke=\"black\" points=\"1279.48,-190.104 1275.98,-180.104 1272.48,-190.104 1279.48,-190.104\"/>\r\n",
       "</g>\r\n",
       "<!-- 1ea75cdb7ce8c4f5f2599165e3698034b4142e08 -->\r\n",
       "<g id=\"node10\" class=\"node\"><title>1ea75cdb7ce8c4f5f2599165e3698034b4142e08</title>\r\n",
       "<ellipse fill=\"none\" stroke=\"black\" cx=\"669.982\" cy=\"-90\" rx=\"176.569\" ry=\"18\"/>\r\n",
       "<text text-anchor=\"middle\" x=\"669.982\" y=\"-86.3\" font-family=\"Times New Roman,serif\" font-size=\"14.00\">A Persona&#45;Based Neural Conversation Model</text>\r\n",
       "</g>\r\n",
       "<!-- e8961cfbb73313b01f2b768650d8851a015e8d18&#45;&gt;1ea75cdb7ce8c4f5f2599165e3698034b4142e08 -->\r\n",
       "<g id=\"edge5\" class=\"edge\"><title>e8961cfbb73313b01f2b768650d8851a015e8d18&#45;&gt;1ea75cdb7ce8c4f5f2599165e3698034b4142e08</title>\r\n",
       "<path fill=\"none\" stroke=\"black\" d=\"M1199.44,-217.711C1149.41,-207.516 1082.68,-193.546 1023.98,-180 925.2,-157.204 811.637,-128.144 740.342,-109.55\"/>\r\n",
       "<polygon fill=\"black\" stroke=\"black\" points=\"741.128,-106.138 730.568,-106.998 739.36,-112.911 741.128,-106.138\"/>\r\n",
       "</g>\r\n",
       "<!-- 4f39a95eb52d9ae740a60cee5f27d4aeeb79d868 -->\r\n",
       "<g id=\"node14\" class=\"node\"><title>4f39a95eb52d9ae740a60cee5f27d4aeeb79d868</title>\r\n",
       "<ellipse fill=\"none\" stroke=\"black\" cx=\"6983.98\" cy=\"-162\" rx=\"512.309\" ry=\"18\"/>\r\n",
       "<text text-anchor=\"middle\" x=\"6983.98\" y=\"-158.3\" font-family=\"Times New Roman,serif\" font-size=\"14.00\">Real conversations with artificial intelligence: A comparison between human&#45;human online conversations and human&#45;chatbot conversations</text>\r\n",
       "</g>\r\n",
       "<!-- e8961cfbb73313b01f2b768650d8851a015e8d18&#45;&gt;4f39a95eb52d9ae740a60cee5f27d4aeeb79d868 -->\r\n",
       "<g id=\"edge4\" class=\"edge\"><title>e8961cfbb73313b01f2b768650d8851a015e8d18&#45;&gt;4f39a95eb52d9ae740a60cee5f27d4aeeb79d868</title>\r\n",
       "<path fill=\"none\" stroke=\"black\" d=\"M1452.28,-230.838C2221.38,-221.406 5297.94,-183.677 6499.61,-168.94\"/>\r\n",
       "<polygon fill=\"black\" stroke=\"black\" points=\"6499.76,-172.439 6509.72,-168.816 6499.68,-165.439 6499.76,-172.439\"/>\r\n",
       "</g>\r\n",
       "<!-- 6db2b93a2d4007371030644173f1001c959214d2 -->\r\n",
       "<g id=\"node4\" class=\"node\"><title>6db2b93a2d4007371030644173f1001c959214d2</title>\r\n",
       "<ellipse fill=\"none\" stroke=\"black\" cx=\"4056.98\" cy=\"-90\" rx=\"193.866\" ry=\"18\"/>\r\n",
       "<text text-anchor=\"middle\" x=\"4056.98\" y=\"-86.3\" font-family=\"Times New Roman,serif\" font-size=\"14.00\">Learning to Write with Cooperative Discriminators</text>\r\n",
       "</g>\r\n",
       "<!-- cf4aa38ae31b43fd07abe13b4ffdb265babb7be1&#45;&gt;6db2b93a2d4007371030644173f1001c959214d2 -->\r\n",
       "<g id=\"edge6\" class=\"edge\"><title>cf4aa38ae31b43fd07abe13b4ffdb265babb7be1&#45;&gt;6db2b93a2d4007371030644173f1001c959214d2</title>\r\n",
       "<path fill=\"none\" stroke=\"black\" d=\"M3883.4,-144.765C3916.53,-134.502 3959.54,-121.182 3994.45,-110.369\"/>\r\n",
       "<polygon fill=\"black\" stroke=\"black\" points=\"3995.55,-113.692 4004.07,-107.39 3993.48,-107.005 3995.55,-113.692\"/>\r\n",
       "</g>\r\n",
       "<!-- 1eb09fecd75eb27825dce4f964b97f4f5cc399d7 -->\r\n",
       "<g id=\"node5\" class=\"node\"><title>1eb09fecd75eb27825dce4f964b97f4f5cc399d7</title>\r\n",
       "<ellipse fill=\"none\" stroke=\"black\" cx=\"4571.98\" cy=\"-90\" rx=\"302.746\" ry=\"18\"/>\r\n",
       "<text text-anchor=\"middle\" x=\"4571.98\" y=\"-86.3\" font-family=\"Times New Roman,serif\" font-size=\"14.00\">On the Properties of Neural Machine Translation: Encoder&#45;Decoder Approaches</text>\r\n",
       "</g>\r\n",
       "<!-- cf4aa38ae31b43fd07abe13b4ffdb265babb7be1&#45;&gt;1eb09fecd75eb27825dce4f964b97f4f5cc399d7 -->\r\n",
       "<g id=\"edge7\" class=\"edge\"><title>cf4aa38ae31b43fd07abe13b4ffdb265babb7be1&#45;&gt;1eb09fecd75eb27825dce4f964b97f4f5cc399d7</title>\r\n",
       "<path fill=\"none\" stroke=\"black\" d=\"M3957.52,-149.046C4081.83,-137.303 4272.09,-119.33 4407.94,-106.496\"/>\r\n",
       "<polygon fill=\"black\" stroke=\"black\" points=\"4408.41,-109.967 4418.04,-105.542 4407.75,-102.999 4408.41,-109.967\"/>\r\n",
       "</g>\r\n",
       "<!-- 5bb8c2a054bb98aef95c108b0a29ea078d53c65e -->\r\n",
       "<g id=\"node6\" class=\"node\"><title>5bb8c2a054bb98aef95c108b0a29ea078d53c65e</title>\r\n",
       "<ellipse fill=\"none\" stroke=\"black\" cx=\"5323.98\" cy=\"-90\" rx=\"431.623\" ry=\"18\"/>\r\n",
       "<text text-anchor=\"middle\" x=\"5323.98\" y=\"-86.3\" font-family=\"Times New Roman,serif\" font-size=\"14.00\">Diversity&#45;Promoting GAN: A Cross&#45;Entropy Based Generative Adversarial Network for Diversified Text Generation</text>\r\n",
       "</g>\r\n",
       "<!-- cf4aa38ae31b43fd07abe13b4ffdb265babb7be1&#45;&gt;5bb8c2a054bb98aef95c108b0a29ea078d53c65e -->\r\n",
       "<g id=\"edge8\" class=\"edge\"><title>cf4aa38ae31b43fd07abe13b4ffdb265babb7be1&#45;&gt;5bb8c2a054bb98aef95c108b0a29ea078d53c65e</title>\r\n",
       "<path fill=\"none\" stroke=\"black\" d=\"M3991.11,-153.492C4241.21,-141.766 4728.04,-118.941 5039.01,-104.361\"/>\r\n",
       "<polygon fill=\"black\" stroke=\"black\" points=\"5039.25,-107.854 5049.08,-103.889 5038.92,-100.861 5039.25,-107.854\"/>\r\n",
       "</g>\r\n",
       "<!-- fb39923f6a4cdb486da5b579c5f8e2c500f36a35 -->\r\n",
       "<g id=\"node7\" class=\"node\"><title>fb39923f6a4cdb486da5b579c5f8e2c500f36a35</title>\r\n",
       "<ellipse fill=\"none\" stroke=\"black\" cx=\"3091.98\" cy=\"-90\" rx=\"254.555\" ry=\"18\"/>\r\n",
       "<text text-anchor=\"middle\" x=\"3091.98\" y=\"-86.3\" font-family=\"Times New Roman,serif\" font-size=\"14.00\">Controlling Linguistic Style Aspects in Neural Language Generation</text>\r\n",
       "</g>\r\n",
       "<!-- cf4aa38ae31b43fd07abe13b4ffdb265babb7be1&#45;&gt;fb39923f6a4cdb486da5b579c5f8e2c500f36a35 -->\r\n",
       "<g id=\"edge9\" class=\"edge\"><title>cf4aa38ae31b43fd07abe13b4ffdb265babb7be1&#45;&gt;fb39923f6a4cdb486da5b579c5f8e2c500f36a35</title>\r\n",
       "<path fill=\"none\" stroke=\"black\" d=\"M3704.78,-149.046C3578.4,-137.075 3383.65,-118.628 3247.73,-105.753\"/>\r\n",
       "<polygon fill=\"black\" stroke=\"black\" points=\"3247.92,-102.255 3237.63,-104.797 3247.26,-109.224 3247.92,-102.255\"/>\r\n",
       "</g>\r\n",
       "<!-- cd18800a0fe0b668a1cc19f2ec95b5003d0a5035 -->\r\n",
       "<g id=\"node8\" class=\"node\"><title>cd18800a0fe0b668a1cc19f2ec95b5003d0a5035</title>\r\n",
       "<ellipse fill=\"none\" stroke=\"black\" cx=\"3604.98\" cy=\"-90\" rx=\"240.457\" ry=\"18\"/>\r\n",
       "<text text-anchor=\"middle\" x=\"3604.98\" y=\"-86.3\" font-family=\"Times New Roman,serif\" font-size=\"14.00\">Improving Language Understanding by Generative Pre&#45;Training</text>\r\n",
       "</g>\r\n",
       "<!-- cf4aa38ae31b43fd07abe13b4ffdb265babb7be1&#45;&gt;cd18800a0fe0b668a1cc19f2ec95b5003d0a5035 -->\r\n",
       "<g id=\"edge10\" class=\"edge\"><title>cf4aa38ae31b43fd07abe13b4ffdb265babb7be1&#45;&gt;cd18800a0fe0b668a1cc19f2ec95b5003d0a5035</title>\r\n",
       "<path fill=\"none\" stroke=\"black\" d=\"M3778.56,-144.765C3745.67,-134.575 3703.05,-121.374 3668.27,-110.603\"/>\r\n",
       "<polygon fill=\"black\" stroke=\"black\" points=\"3669.27,-107.249 3658.68,-107.633 3667.2,-113.935 3669.27,-107.249\"/>\r\n",
       "</g>\r\n",
       "<!-- 0e4f4869853c5f0d9d1d740481b0be196b4bec4f&#45;&gt;cea967b59209c6be22829699f05b8b1ac4dc092d -->\r\n",
       "<g id=\"edge13\" class=\"edge\"><title>0e4f4869853c5f0d9d1d740481b0be196b4bec4f&#45;&gt;cea967b59209c6be22829699f05b8b1ac4dc092d</title>\r\n",
       "<path fill=\"none\" stroke=\"black\" d=\"M1066.91,-152.801C870.601,-144.05 591.495,-128.608 483.982,-108 403.285,-92.5325 313.307,-60.6155 258.678,-39.5085\"/>\r\n",
       "<polygon fill=\"black\" stroke=\"black\" points=\"259.819,-36.1966 249.23,-35.8294 257.279,-42.7195 259.819,-36.1966\"/>\r\n",
       "</g>\r\n",
       "<!-- 0e4f4869853c5f0d9d1d740481b0be196b4bec4f&#45;&gt;1ea75cdb7ce8c4f5f2599165e3698034b4142e08 -->\r\n",
       "<g id=\"edge11\" class=\"edge\"><title>0e4f4869853c5f0d9d1d740481b0be196b4bec4f&#45;&gt;1ea75cdb7ce8c4f5f2599165e3698034b4142e08</title>\r\n",
       "<path fill=\"none\" stroke=\"black\" d=\"M1150.79,-146.538C1045.61,-134.39 896.208,-117.132 791.952,-105.089\"/>\r\n",
       "<polygon fill=\"black\" stroke=\"black\" points=\"792.342,-101.611 782.007,-103.94 791.539,-108.565 792.342,-101.611\"/>\r\n",
       "</g>\r\n",
       "<!-- 6e0e483883fc018727784cd31b339bf60e823dca -->\r\n",
       "<g id=\"node11\" class=\"node\"><title>6e0e483883fc018727784cd31b339bf60e823dca</title>\r\n",
       "<ellipse fill=\"none\" stroke=\"black\" cx=\"1275.98\" cy=\"-90\" rx=\"410.527\" ry=\"18\"/>\r\n",
       "<text text-anchor=\"middle\" x=\"1275.98\" y=\"-86.3\" font-family=\"Times New Roman,serif\" font-size=\"14.00\">CMU OAQA at TREC 2016 LiveQA: An Attentional Neural Encoder&#45;Decoder Approach for Answer Ranking</text>\r\n",
       "</g>\r\n",
       "<!-- 0e4f4869853c5f0d9d1d740481b0be196b4bec4f&#45;&gt;6e0e483883fc018727784cd31b339bf60e823dca -->\r\n",
       "<g id=\"edge12\" class=\"edge\"><title>0e4f4869853c5f0d9d1d740481b0be196b4bec4f&#45;&gt;6e0e483883fc018727784cd31b339bf60e823dca</title>\r\n",
       "<path fill=\"none\" stroke=\"black\" d=\"M1275.98,-143.697C1275.98,-135.983 1275.98,-126.712 1275.98,-118.112\"/>\r\n",
       "<polygon fill=\"black\" stroke=\"black\" points=\"1279.48,-118.104 1275.98,-108.104 1272.48,-118.104 1279.48,-118.104\"/>\r\n",
       "</g>\r\n",
       "<!-- 9fae0f18e23db076e27b23f17a417f3149f63e2e -->\r\n",
       "<g id=\"node12\" class=\"node\"><title>9fae0f18e23db076e27b23f17a417f3149f63e2e</title>\r\n",
       "<ellipse fill=\"none\" stroke=\"black\" cx=\"1969.98\" cy=\"-90\" rx=\"265.353\" ry=\"18\"/>\r\n",
       "<text text-anchor=\"middle\" x=\"1969.98\" y=\"-86.3\" font-family=\"Times New Roman,serif\" font-size=\"14.00\">TweetMotif: Exploratory Search and Topic Summarization for Twitter</text>\r\n",
       "</g>\r\n",
       "<!-- 0e4f4869853c5f0d9d1d740481b0be196b4bec4f&#45;&gt;9fae0f18e23db076e27b23f17a417f3149f63e2e -->\r\n",
       "<g id=\"edge14\" class=\"edge\"><title>0e4f4869853c5f0d9d1d740481b0be196b4bec4f&#45;&gt;9fae0f18e23db076e27b23f17a417f3149f63e2e</title>\r\n",
       "<path fill=\"none\" stroke=\"black\" d=\"M1413.51,-147.128C1530.35,-135.343 1697.83,-118.45 1818.5,-106.279\"/>\r\n",
       "<polygon fill=\"black\" stroke=\"black\" points=\"1818.96,-109.75 1828.56,-105.264 1818.26,-102.786 1818.96,-109.75\"/>\r\n",
       "</g>\r\n",
       "<!-- 7f9135f3584e4e1715b2990a4f389c94af0313a5 -->\r\n",
       "<g id=\"node13\" class=\"node\"><title>7f9135f3584e4e1715b2990a4f389c94af0313a5</title>\r\n",
       "<ellipse fill=\"none\" stroke=\"black\" cx=\"2535.98\" cy=\"-90\" rx=\"282.95\" ry=\"18\"/>\r\n",
       "<text text-anchor=\"middle\" x=\"2535.98\" y=\"-86.3\" font-family=\"Times New Roman,serif\" font-size=\"14.00\">Generating Long and Diverse Responses with Neural Conversation Models</text>\r\n",
       "</g>\r\n",
       "<!-- 0e4f4869853c5f0d9d1d740481b0be196b4bec4f&#45;&gt;7f9135f3584e4e1715b2990a4f389c94af0313a5 -->\r\n",
       "<g id=\"edge15\" class=\"edge\"><title>0e4f4869853c5f0d9d1d740481b0be196b4bec4f&#45;&gt;7f9135f3584e4e1715b2990a4f389c94af0313a5</title>\r\n",
       "<path fill=\"none\" stroke=\"black\" d=\"M1466.55,-150.761C1661.78,-140.225 1974.07,-123.246 2243.98,-108 2270.4,-106.508 2298.15,-104.919 2325.61,-103.335\"/>\r\n",
       "<polygon fill=\"black\" stroke=\"black\" points=\"2325.93,-106.822 2335.72,-102.751 2325.53,-99.8337 2325.93,-106.822\"/>\r\n",
       "</g>\r\n",
       "<!-- 1ea75cdb7ce8c4f5f2599165e3698034b4142e08&#45;&gt;cea967b59209c6be22829699f05b8b1ac4dc092d -->\r\n",
       "<g id=\"edge20\" class=\"edge\"><title>1ea75cdb7ce8c4f5f2599165e3698034b4142e08&#45;&gt;cea967b59209c6be22829699f05b8b1ac4dc092d</title>\r\n",
       "<path fill=\"none\" stroke=\"black\" d=\"M575.932,-74.7501C500.661,-63.3454 395.028,-47.3404 316.241,-35.403\"/>\r\n",
       "<polygon fill=\"black\" stroke=\"black\" points=\"316.695,-31.9319 306.284,-33.8943 315.647,-38.8529 316.695,-31.9319\"/>\r\n",
       "</g>\r\n",
       "<!-- ef14d4823582b4e7a9bb657fb6a0d07458b8330b -->\r\n",
       "<g id=\"node20\" class=\"node\"><title>ef14d4823582b4e7a9bb657fb6a0d07458b8330b</title>\r\n",
       "<ellipse fill=\"none\" stroke=\"black\" cx=\"669.982\" cy=\"-18\" rx=\"235.858\" ry=\"18\"/>\r\n",
       "<text text-anchor=\"middle\" x=\"669.982\" y=\"-14.3\" font-family=\"Times New Roman,serif\" font-size=\"14.00\">All the World&#39;s a Stage: Learning Character Models from Film</text>\r\n",
       "</g>\r\n",
       "<!-- 1ea75cdb7ce8c4f5f2599165e3698034b4142e08&#45;&gt;ef14d4823582b4e7a9bb657fb6a0d07458b8330b -->\r\n",
       "<g id=\"edge16\" class=\"edge\"><title>1ea75cdb7ce8c4f5f2599165e3698034b4142e08&#45;&gt;ef14d4823582b4e7a9bb657fb6a0d07458b8330b</title>\r\n",
       "<path fill=\"none\" stroke=\"black\" d=\"M669.982,-71.6966C669.982,-63.9827 669.982,-54.7125 669.982,-46.1124\"/>\r\n",
       "<polygon fill=\"black\" stroke=\"black\" points=\"673.482,-46.1043 669.982,-36.1043 666.482,-46.1044 673.482,-46.1043\"/>\r\n",
       "</g>\r\n",
       "<!-- 2de0401b5f019fb8646a27a3cc50429b38693dd6 -->\r\n",
       "<g id=\"node21\" class=\"node\"><title>2de0401b5f019fb8646a27a3cc50429b38693dd6</title>\r\n",
       "<ellipse fill=\"none\" stroke=\"black\" cx=\"1260.98\" cy=\"-18\" rx=\"336.84\" ry=\"18\"/>\r\n",
       "<text text-anchor=\"middle\" x=\"1260.98\" y=\"-14.3\" font-family=\"Times New Roman,serif\" font-size=\"14.00\">Luke, I am Your Father: Dealing with Out&#45;of&#45;Domain Requests by Using Movies Subtitles</text>\r\n",
       "</g>\r\n",
       "<!-- 1ea75cdb7ce8c4f5f2599165e3698034b4142e08&#45;&gt;2de0401b5f019fb8646a27a3cc50429b38693dd6 -->\r\n",
       "<g id=\"edge17\" class=\"edge\"><title>1ea75cdb7ce8c4f5f2599165e3698034b4142e08&#45;&gt;2de0401b5f019fb8646a27a3cc50429b38693dd6</title>\r\n",
       "<path fill=\"none\" stroke=\"black\" d=\"M780.451,-75.9157C876.253,-64.5686 1015.47,-48.0791 1119.42,-35.7664\"/>\r\n",
       "<polygon fill=\"black\" stroke=\"black\" points=\"1119.85,-39.2403 1129.37,-34.5882 1119.03,-32.2888 1119.85,-39.2403\"/>\r\n",
       "</g>\r\n",
       "<!-- 8f4c9f5877fbd287785466d59877ef870c5e53c4 -->\r\n",
       "<g id=\"node22\" class=\"node\"><title>8f4c9f5877fbd287785466d59877ef870c5e53c4</title>\r\n",
       "<ellipse fill=\"none\" stroke=\"black\" cx=\"2037.98\" cy=\"-18\" rx=\"422.425\" ry=\"18\"/>\r\n",
       "<text text-anchor=\"middle\" x=\"2037.98\" y=\"-14.3\" font-family=\"Times New Roman,serif\" font-size=\"14.00\">Trainable approaches to surface natural language generation and their application to conversational dialog systems</text>\r\n",
       "</g>\r\n",
       "<!-- 1ea75cdb7ce8c4f5f2599165e3698034b4142e08&#45;&gt;8f4c9f5877fbd287785466d59877ef870c5e53c4 -->\r\n",
       "<g id=\"edge18\" class=\"edge\"><title>1ea75cdb7ce8c4f5f2599165e3698034b4142e08&#45;&gt;8f4c9f5877fbd287785466d59877ef870c5e53c4</title>\r\n",
       "<path fill=\"none\" stroke=\"black\" d=\"M792.479,-76.9915C813.643,-75.1493 835.438,-73.3986 855.982,-72 1019.28,-60.8825 1437.3,-43.0684 1729.64,-31.2031\"/>\r\n",
       "<polygon fill=\"black\" stroke=\"black\" points=\"1730.14,-34.6859 1739.99,-30.7835 1729.85,-27.6917 1730.14,-34.6859\"/>\r\n",
       "</g>\r\n",
       "<!-- 1f12451245667a85d0ee225a80880fc93c71cc8b -->\r\n",
       "<g id=\"node23\" class=\"node\"><title>1f12451245667a85d0ee225a80880fc93c71cc8b</title>\r\n",
       "<ellipse fill=\"none\" stroke=\"black\" cx=\"2717.98\" cy=\"-18\" rx=\"239.358\" ry=\"18\"/>\r\n",
       "<text text-anchor=\"middle\" x=\"2717.98\" y=\"-14.3\" font-family=\"Times New Roman,serif\" font-size=\"14.00\">Minimum Error Rate Training in Statistical Machine Translation</text>\r\n",
       "</g>\r\n",
       "<!-- 1ea75cdb7ce8c4f5f2599165e3698034b4142e08&#45;&gt;1f12451245667a85d0ee225a80880fc93c71cc8b -->\r\n",
       "<g id=\"edge19\" class=\"edge\"><title>1ea75cdb7ce8c4f5f2599165e3698034b4142e08&#45;&gt;1f12451245667a85d0ee225a80880fc93c71cc8b</title>\r\n",
       "<path fill=\"none\" stroke=\"black\" d=\"M790.457,-76.7697C812.246,-74.9051 834.777,-73.2042 855.982,-72 1571.9,-31.3427 1752.65,-68.4299 2468.98,-36 2493.53,-34.8885 2519.43,-33.435 2544.87,-31.8456\"/>\r\n",
       "<polygon fill=\"black\" stroke=\"black\" points=\"2545.21,-35.3309 2554.97,-31.2059 2544.77,-28.3449 2545.21,-35.3309\"/>\r\n",
       "</g>\r\n",
       "<!-- ce08eaf2cef490b8fed91e66b173bdf34fb2386c -->\r\n",
       "<g id=\"node15\" class=\"node\"><title>ce08eaf2cef490b8fed91e66b173bdf34fb2386c</title>\r\n",
       "<ellipse fill=\"none\" stroke=\"black\" cx=\"7204.98\" cy=\"-90\" rx=\"165.171\" ry=\"18\"/>\r\n",
       "<text text-anchor=\"middle\" x=\"7204.98\" y=\"-86.3\" font-family=\"Times New Roman,serif\" font-size=\"14.00\">The Utility and Ubiquity of Taboo Words.</text>\r\n",
       "</g>\r\n",
       "<!-- 4f39a95eb52d9ae740a60cee5f27d4aeeb79d868&#45;&gt;ce08eaf2cef490b8fed91e66b173bdf34fb2386c -->\r\n",
       "<g id=\"edge21\" class=\"edge\"><title>4f39a95eb52d9ae740a60cee5f27d4aeeb79d868&#45;&gt;ce08eaf2cef490b8fed91e66b173bdf34fb2386c</title>\r\n",
       "<path fill=\"none\" stroke=\"black\" d=\"M7037.48,-144.055C7069.69,-133.854 7110.79,-120.835 7144.22,-110.247\"/>\r\n",
       "<polygon fill=\"black\" stroke=\"black\" points=\"7145.4,-113.543 7153.88,-107.187 7143.29,-106.87 7145.4,-113.543\"/>\r\n",
       "</g>\r\n",
       "<!-- de42b848775f9fa1e4bff758ae04a54099c0c381 -->\r\n",
       "<g id=\"node16\" class=\"node\"><title>de42b848775f9fa1e4bff758ae04a54099c0c381</title>\r\n",
       "<ellipse fill=\"none\" stroke=\"black\" cx=\"7786.98\" cy=\"-90\" rx=\"399.129\" ry=\"18\"/>\r\n",
       "<text text-anchor=\"middle\" x=\"7786.98\" y=\"-86.3\" font-family=\"Times New Roman,serif\" font-size=\"14.00\">ELIZA — a computer program for the study of natural language communication between man and machine</text>\r\n",
       "</g>\r\n",
       "<!-- 4f39a95eb52d9ae740a60cee5f27d4aeeb79d868&#45;&gt;de42b848775f9fa1e4bff758ae04a54099c0c381 -->\r\n",
       "<g id=\"edge22\" class=\"edge\"><title>4f39a95eb52d9ae740a60cee5f27d4aeeb79d868&#45;&gt;de42b848775f9fa1e4bff758ae04a54099c0c381</title>\r\n",
       "<path fill=\"none\" stroke=\"black\" d=\"M7165.69,-145.16C7296.12,-133.79 7471.27,-118.522 7602.35,-107.095\"/>\r\n",
       "<polygon fill=\"black\" stroke=\"black\" points=\"7602.85,-110.565 7612.51,-106.21 7602.24,-103.591 7602.85,-110.565\"/>\r\n",
       "</g>\r\n",
       "<!-- 8fb7d85cefa1a0dbc5cec05f2c052c58ced71390 -->\r\n",
       "<g id=\"node17\" class=\"node\"><title>8fb7d85cefa1a0dbc5cec05f2c052c58ced71390</title>\r\n",
       "<ellipse fill=\"none\" stroke=\"black\" cx=\"8439.98\" cy=\"-90\" rx=\"235.858\" ry=\"18\"/>\r\n",
       "<text text-anchor=\"middle\" x=\"8439.98\" y=\"-86.3\" font-family=\"Times New Roman,serif\" font-size=\"14.00\">The Development and Psychometric Properties of LIWC2007</text>\r\n",
       "</g>\r\n",
       "<!-- 4f39a95eb52d9ae740a60cee5f27d4aeeb79d868&#45;&gt;8fb7d85cefa1a0dbc5cec05f2c052c58ced71390 -->\r\n",
       "<g id=\"edge23\" class=\"edge\"><title>4f39a95eb52d9ae740a60cee5f27d4aeeb79d868&#45;&gt;8fb7d85cefa1a0dbc5cec05f2c052c58ced71390</title>\r\n",
       "<path fill=\"none\" stroke=\"black\" d=\"M7322.74,-148.49C7565.63,-138.956 7900.57,-124.654 8194.98,-108 8217.89,-106.704 8241.99,-105.202 8265.77,-103.637\"/>\r\n",
       "<polygon fill=\"black\" stroke=\"black\" points=\"8266.2,-107.117 8275.94,-102.963 8265.73,-100.133 8266.2,-107.117\"/>\r\n",
       "</g>\r\n",
       "<!-- bff96cc547d337d2be637ee510486142ee4586ef -->\r\n",
       "<g id=\"node18\" class=\"node\"><title>bff96cc547d337d2be637ee510486142ee4586ef</title>\r\n",
       "<ellipse fill=\"none\" stroke=\"black\" cx=\"6129.98\" cy=\"-90\" rx=\"356.337\" ry=\"18\"/>\r\n",
       "<text text-anchor=\"middle\" x=\"6129.98\" y=\"-86.3\" font-family=\"Times New Roman,serif\" font-size=\"14.00\">Virtual research assistants: Replacing human interviewers by automated avatars in virtual worlds</text>\r\n",
       "</g>\r\n",
       "<!-- 4f39a95eb52d9ae740a60cee5f27d4aeeb79d868&#45;&gt;bff96cc547d337d2be637ee510486142ee4586ef -->\r\n",
       "<g id=\"edge24\" class=\"edge\"><title>4f39a95eb52d9ae740a60cee5f27d4aeeb79d868&#45;&gt;bff96cc547d337d2be637ee510486142ee4586ef</title>\r\n",
       "<path fill=\"none\" stroke=\"black\" d=\"M6792.33,-145.291C6650.77,-133.688 6459.04,-117.972 6318.29,-106.435\"/>\r\n",
       "<polygon fill=\"black\" stroke=\"black\" points=\"6318.5,-102.94 6308.24,-105.612 6317.92,-109.917 6318.5,-102.94\"/>\r\n",
       "</g>\r\n",
       "<!-- 0fb54f54cd7427582fdb2a8da46d42884c7f417a -->\r\n",
       "<g id=\"node19\" class=\"node\"><title>0fb54f54cd7427582fdb2a8da46d42884c7f417a</title>\r\n",
       "<ellipse fill=\"none\" stroke=\"black\" cx=\"6762.98\" cy=\"-90\" rx=\"258.854\" ry=\"18\"/>\r\n",
       "<text text-anchor=\"middle\" x=\"6762.98\" y=\"-86.3\" font-family=\"Times New Roman,serif\" font-size=\"14.00\">The role of emotion in computer&#45;mediated communication: A review</text>\r\n",
       "</g>\r\n",
       "<!-- 4f39a95eb52d9ae740a60cee5f27d4aeeb79d868&#45;&gt;0fb54f54cd7427582fdb2a8da46d42884c7f417a -->\r\n",
       "<g id=\"edge25\" class=\"edge\"><title>4f39a95eb52d9ae740a60cee5f27d4aeeb79d868&#45;&gt;0fb54f54cd7427582fdb2a8da46d42884c7f417a</title>\r\n",
       "<path fill=\"none\" stroke=\"black\" d=\"M6930.48,-144.055C6898.74,-134.001 6858.36,-121.21 6825.2,-110.707\"/>\r\n",
       "<polygon fill=\"black\" stroke=\"black\" points=\"6826.2,-107.351 6815.61,-107.668 6824.08,-114.024 6826.2,-107.351\"/>\r\n",
       "</g>\r\n",
       "</g>\r\n",
       "</svg>\r\n"
      ],
      "text/plain": [
       "<graphviz.dot.Digraph at 0x23ef76f3ec8>"
      ]
     },
     "execution_count": 46,
     "metadata": {},
     "output_type": "execute_result"
    }
   ],
   "source": [
    "dot"
   ]
  },
  {
   "cell_type": "code",
   "execution_count": null,
   "metadata": {},
   "outputs": [],
   "source": []
  },
  {
   "cell_type": "code",
   "execution_count": null,
   "metadata": {},
   "outputs": [],
   "source": []
  },
  {
   "cell_type": "code",
   "execution_count": 2,
   "metadata": {},
   "outputs": [],
   "source": [
    "# Get PDF UNUSED"
   ]
  },
  {
   "cell_type": "code",
   "execution_count": 6,
   "metadata": {},
   "outputs": [],
   "source": [
    "arxiv_id = '2001.09977v2'\n",
    "link = 'https://arxiv.org/pdf/{}.pdf'.format(arxiv_id)"
   ]
  },
  {
   "cell_type": "code",
   "execution_count": 8,
   "metadata": {
    "scrolled": true
   },
   "outputs": [
    {
     "data": {
      "text/plain": [
       "('papers/2001.09977v2.pdf', <http.client.HTTPMessage at 0x28ddfdbfd88>)"
      ]
     },
     "execution_count": 8,
     "metadata": {},
     "output_type": "execute_result"
    }
   ],
   "source": [
    "urllib.request.urlretrieve(link, 'papers/{}.pdf'.format(arxiv_id))"
   ]
  }
 ],
 "metadata": {
  "kernelspec": {
   "display_name": "Python 3",
   "language": "python",
   "name": "python3"
  },
  "language_info": {
   "codemirror_mode": {
    "name": "ipython",
    "version": 3
   },
   "file_extension": ".py",
   "mimetype": "text/x-python",
   "name": "python",
   "nbconvert_exporter": "python",
   "pygments_lexer": "ipython3",
   "version": "3.7.6"
  }
 },
 "nbformat": 4,
 "nbformat_minor": 2
}
